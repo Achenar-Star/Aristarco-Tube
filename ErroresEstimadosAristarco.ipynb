{
 "cells": [
  {
   "cell_type": "code",
   "execution_count": 5,
   "id": "10f0e43a-c9a9-4348-a127-9385f9ffd54d",
   "metadata": {},
   "outputs": [
    {
     "name": "stdout",
     "output_type": "stream",
     "text": [
      "89.01162699219019 20.40744942954889\n"
     ]
    }
   ],
   "source": [
    "import numpy as np\n",
    "import matplotlib.pyplot as plt\n",
    "import math\n",
    "##################################################################################################\n",
    "########### Este es el error estimado de las mediciones en metros ################################\n",
    "##################################################################################################\n",
    "\n",
    "error=0.005\n",
    "####################################################################################################\n",
    "### Este es el largo del tubo utilizado las medidas estan en metros ################################\n",
    "####################################################################################################\n",
    "\n",
    "L_T=1.5\n",
    "##########################################################################################\n",
    "###### Los valores de alfa (elevación de la luna) y delta(Algulo Sol-Tierra-Luna)#########\n",
    "##########################################################################################\n",
    "\n",
    "alfa=60*math.pi/180\n",
    "delta=89*math.pi/180\n",
    "\n",
    "###############################################################################################################\n",
    "####### Redondeamos los datos a la precisión que tenemos de nuestra huincha de medir que es 1 milimetro #######\n",
    "###############################################################################################################\n",
    "\n",
    "BC=round(L_T*np.sin(alfa)/np.sin(alfa+delta),3)\n",
    "L_S=round(L_T*np.sin(delta)/np.sin(alfa+delta),3)\n",
    "\n",
    "###############################################################################################################\n",
    "######## Generamos 1000 datos aleatorios que se distribuyen normal en torno a las medidas anteriores ##########\n",
    "###############################################################################################################\n",
    "\n",
    "Lrod=np.random.normal(loc=L_T, scale=0, size=1000)\n",
    "Ls=np.random.normal(loc=L_S, scale=error, size=1000)\n",
    "Lae=np.random.normal(loc=1, scale=error, size=1000)\n",
    "Lbd=np.random.normal(loc=1+BC, scale=error, size=1000)\n",
    "Lbc=Lbd-Lae\n",
    "\n",
    "###############################################################################################################\n",
    "###### Calculamos cuanto seria nuestro angulo aplicando el teorema del coseno con estas medidas con error######\n",
    "###############################################################################################################\n",
    "\n",
    "delta=np.arccos((Lrod**2+Lbc**2-Ls**2)/(2*Lrod*Lbc))\n",
    "deltagrados=delta*180/math.pi\n",
    "\n",
    "################################################################################################################\n",
    "######## Calculamos la Media y la desviación estandar de los angulos recuperados para analizar el error ########\n",
    "################################################################################################################\n",
    "############ La media esta en grados y la desviación estandar en minutos #######################################\n",
    "################################################################################################################\n",
    "\n",
    "media = np.mean(deltagrados)\n",
    "desviacion_estandar = np.std(deltagrados)*60\n",
    "print(media,desviacion_estandar)\n"
   ]
  },
  {
   "cell_type": "code",
   "execution_count": null,
   "id": "31165f45-360d-4932-bbaf-1b93a9b4424f",
   "metadata": {},
   "outputs": [],
   "source": []
  }
 ],
 "metadata": {
  "kernelspec": {
   "display_name": "Python 3 (ipykernel)",
   "language": "python",
   "name": "python3"
  },
  "language_info": {
   "codemirror_mode": {
    "name": "ipython",
    "version": 3
   },
   "file_extension": ".py",
   "mimetype": "text/x-python",
   "name": "python",
   "nbconvert_exporter": "python",
   "pygments_lexer": "ipython3",
   "version": "3.12.4"
  }
 },
 "nbformat": 4,
 "nbformat_minor": 5
}
